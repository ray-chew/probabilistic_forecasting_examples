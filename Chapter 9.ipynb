{
 "cells": [
  {
   "cell_type": "markdown",
   "metadata": {},
   "source": [
    "## Chapter 9"
   ]
  },
  {
   "cell_type": "code",
   "execution_count": 2,
   "metadata": {},
   "outputs": [],
   "source": [
    "import numpy as np\n",
    "import matplotlib.pyplot as plt\n",
    "%matplotlib notebook"
   ]
  },
  {
   "cell_type": "markdown",
   "metadata": {},
   "source": [
    "### Example 9.3 (Model selection based on model evidence using the SIR filter)"
   ]
  },
  {
   "cell_type": "markdown",
   "metadata": {},
   "source": [
    "First generate the Lorenz-63 surrogate physical process with observations"
   ]
  },
  {
   "cell_type": "code",
   "execution_count": 65,
   "metadata": {},
   "outputs": [],
   "source": [
    "sigm = 10.\n",
    "rho = 28.\n",
    "beta = 8./3\n",
    "dt = 0.001\n",
    "Nout = 50\n",
    "a = 1. / np.sqrt(dt)\n",
    "fakt = 1.99999\n",
    "N = 2 * 10**5\n",
    "\n",
    "# initial conditions\n",
    "x = -.587\n",
    "y = -.563\n",
    "z = 16.870\n",
    "g1 = a * (1. / np.sqrt(2.) - .5)\n",
    "g2 = a * (1. / np.sqrt(3.) - .5)\n",
    "g3 = a * (1. / np.sqrt(5.) - .5)\n",
    "res = np.zeros((N,7))\n",
    "\n",
    "def gi(gi):\n",
    "    if ((gi >= -a/2) and gi < 0):\n",
    "        return a * (fakt * gi / a + 0.5)\n",
    "    else:\n",
    "        return a * (-fakt * gi / a + 0.5)\n",
    "        \n",
    "for i in range(N):\n",
    "    res[i,:] = [i, x, y, z, g1, g2, g3]\n",
    "    \n",
    "    g1 = gi(g1)\n",
    "    g2 = gi(g2)\n",
    "    g3 = gi(g3)\n",
    "    \n",
    "    xn = x + dt * (sigm * (y - x)) + dt * g1\n",
    "    yn = y + dt * (x * (rho - z) - y) + dt * g2\n",
    "    zn = z + dt * (x * y - beta * z) + dt * g3\n",
    "    \n",
    "    x, y, z = xn, yn, zn\n",
    "    \n",
    "res[:,0] *= dt\n",
    "\n",
    "# store only points with dt = 0.05\n",
    "ressug = res[::Nout]\n",
    "\n",
    "# add measurement error using tent map\n",
    "meas = np.zeros((N*4,2))\n",
    "a = 4.\n",
    "fakt = 1.99999\n",
    "eta1 = a * (2.**(-1./2) - 0.5)\n",
    "\n",
    "for i in range(N*4):\n",
    "    if ((eta1 >= -a/2) and (eta1 < 0)):\n",
    "        eta1 = (fakt * eta1 + 0.5 * a)\n",
    "    else:\n",
    "        eta1 = (-fakt * eta1 + 0.5 * a)\n",
    "    meas[i] = [i+1, eta1]\n",
    "    \n",
    "measerr = meas[:,1][::10]\n",
    "\n",
    "# observation of x-component (dt = 0.05, first 200 datapoints)\n",
    "obsx = np.zeros((N/Nout,3))\n",
    "j = 0\n",
    "i = 0\n",
    "\n",
    "for k in range(0,N,Nout):\n",
    "    err = 1./20 * np.sum(measerr[j:j+20])\n",
    "    obsx[i] = [res[k,0], res[k,1], err]\n",
    "    i += 1\n",
    "    j += 20\n",
    "    \n",
    "obsx = np.array(obsx)\n",
    "x_obs = [obsx[:,1] + obsx[:,2]]\n",
    "x_obs = np.array(x_obs[0])"
   ]
  },
  {
   "cell_type": "markdown",
   "metadata": {},
   "source": [
    "Why doesn't the example work with the observations I generated in the previous cell, but only with the imported observations...?"
   ]
  },
  {
   "cell_type": "code",
   "execution_count": 71,
   "metadata": {},
   "outputs": [],
   "source": [
    "import scipy.io\n",
    "mat = scipy.io.loadmat('data_observations.mat')\n",
    "x_obs = mat['x_obs'].flatten()"
   ]
  },
  {
   "cell_type": "markdown",
   "metadata": {},
   "source": [
    "Import resampling module required for the SIR filter"
   ]
  },
  {
   "cell_type": "code",
   "execution_count": 4,
   "metadata": {},
   "outputs": [],
   "source": [
    "from resampling import resampling"
   ]
  },
  {
   "cell_type": "code",
   "execution_count": 72,
   "metadata": {},
   "outputs": [],
   "source": [
    "var = [0.02, 0.05, 0.0838, 0.1, 0.2]\n",
    "K = len(var)\n",
    "\n",
    "# ensemble size\n",
    "M = 1000\n",
    "repetitions = 10\n",
    "\n",
    "evidenceSIR = np.ones((repetitions,K))\n",
    "\n",
    "# SIR filter\n",
    "dt = 0.001\n",
    "Nout = 50\n",
    "STEPS = 5*40\n",
    "R = 1./15\n",
    "sigma = R\n",
    "\n",
    "for kk in range(K):\n",
    "    for ll in range(repetitions):\n",
    "        # initial conditions\n",
    "        x0 = -0.587\n",
    "        y0 = -0.563\n",
    "        z0 = 16.87\n",
    "        \n",
    "        x = x0 + np.sqrt(sigma) * np.random.randn(M)\n",
    "        y = y0 + np.sqrt(sigma) * np.random.randn(M)\n",
    "        z = z0 + np.sqrt(sigma) * np.random.randn(M)\n",
    "        time = np.zeros((STEPS+1))\n",
    "        \n",
    "        weights = 1./M * np.ones((M))\n",
    "        \n",
    "        for j in range(STEPS):\n",
    "            xh = x\n",
    "            yh = y\n",
    "            zh = z\n",
    "            \n",
    "            for i in range(Nout):\n",
    "                xo = xh\n",
    "                yo = yh\n",
    "                zo = zh\n",
    "\n",
    "                xh = xo + dt * 10. * (yo-xo) + np.sqrt(dt * var[kk]) * np.random.randn(M)\n",
    "                yh = yo + dt * (xo * (28. - zo) - yo) + np.sqrt(dt * var[kk]) * np.random.randn(M)\n",
    "                zh = zo + dt * (xo * yo - 8./3 * zo) + np.sqrt(dt * var[kk]) * np.random.randn(M)\n",
    "                \n",
    "            r = xh - x_obs[j+1]\n",
    "            weights = np.exp(-r**2 / (R * 2.)) * weights / np.sqrt(2. * np.pi * R)\n",
    "            Weights = weights / np.sum(weights)\n",
    "            \n",
    "            x = xh\n",
    "            y = yh\n",
    "            z = zh\n",
    "            time[j+1] = dt * Nout * j\n",
    "            \n",
    "            X = np.vstack((x,y,z))\n",
    "            A, B = resampling(X,Weights,M,3)\n",
    "\n",
    "            evidenceSIR[ll,kk] *= np.sum(weights)\n",
    "            weights = 1./M * np.ones((M))\n",
    "            \n",
    "            x = np.hstack((A[0,:],B[0,:]))\n",
    "            y = np.hstack((A[1,:],B[1,:]))\n",
    "            z = np.hstack((A[2,:],B[2,:]))\n",
    "            \n",
    "evidences = np.mean(evidenceSIR,axis=0)"
   ]
  },
  {
   "cell_type": "code",
   "execution_count": 73,
   "metadata": {},
   "outputs": [
    {
     "data": {
      "image/png": "[encoded data removed]",
      "text/plain": [
       "<Figure size 576x432 with 1 Axes>"
      ]
     },
     "metadata": {
      "needs_background": "light"
     },
     "output_type": "display_data"
    }
   ],
   "source": [
    "fig0 = plt.figure(figsize=(8,6))\n",
    "plt.semilogy(var,evidenceSIR.mean(axis=0), '-x')\n",
    "plt.show()"
   ]
  },
  {
   "cell_type": "code",
   "execution_count": null,
   "metadata": {},
   "outputs": [],
   "source": []
  }
 ],
 "metadata": {
  "kernelspec": {
   "display_name": "Python 2",
   "language": "python",
   "name": "python2"
  },
  "language_info": {
   "codemirror_mode": {
    "name": "ipython",
    "version": 2
   },
   "file_extension": ".py",
   "mimetype": "text/x-python",
   "name": "python",
   "nbconvert_exporter": "python",
   "pygments_lexer": "ipython2",
   "version": "2.7.15"
  },
  "widgets": {
   "application/vnd.jupyter.widget-state+json": {
    "state": {},
    "version_major": 2,
    "version_minor": 0
   }
  }
 },
 "nbformat": 4,
 "nbformat_minor": 2
}
