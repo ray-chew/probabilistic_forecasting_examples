{
 "cells": [
  {
   "cell_type": "markdown",
   "metadata": {},
   "source": [
    "## Chapter 5"
   ]
  },
  {
   "cell_type": "code",
   "execution_count": 14,
   "metadata": {},
   "outputs": [],
   "source": [
    "import numpy as np\n",
    "import matplotlib.pyplot as plt\n",
    "%matplotlib inline"
   ]
  },
  {
   "cell_type": "markdown",
   "metadata": {},
   "source": [
    "### Example 5.9"
   ]
  },
  {
   "cell_type": "code",
   "execution_count": 38,
   "metadata": {},
   "outputs": [
    {
     "name": "stdout",
     "output_type": "stream",
     "text": [
      "posterior mean = 0.2095\n",
      "posterior var = 0.0211\n",
      "posterior median = 0.2006\n",
      "posterior MAP (over grid) = 0.1837\n",
      "posterior MAP (Newton method) = 0.1837\n"
     ]
    }
   ],
   "source": [
    "R = 1. # variance of observed value\n",
    "B = 1./2 # variance of prior\n",
    "dobs = 2. # mean of observed value\n",
    "x0 = -2. # mean of prior\n",
    "\n",
    "dx = 0.00001\n",
    "xgrid = np.arange(-4.,1.+dx,dx)\n",
    "\n",
    "prior = 1./np.sqrt(2. * np.pi * B) * np.exp(-(xgrid-x0)**2 / (2. * B))\n",
    "prior = prior/np.sum(prior)/dx\n",
    "\n",
    "# non-linear forward map\n",
    "def obsgf(xgrid):\n",
    "    return 7./12 * xgrid**3 - 7./2 * xgrid**2 + 8 * xgrid\n",
    "\n",
    "obsg = obsgf(xgrid)\n",
    "lik = 1./np.sqrt(2. * np.pi * R) * np.exp(-(obsg - dobs)**2 / (2. * R))\n",
    "# lik = lik / np.sum(lik) / dx\n",
    "post = lik * prior / np.sum(lik * prior) / dx\n",
    "\n",
    "# posterior mean\n",
    "mean_post = np.sum(post * xgrid * dx)\n",
    "var_post = np.sum(post * (xgrid - mean_post)**2 * dx)\n",
    "print(\"posterior mean = %.4f\" %mean_post)\n",
    "print(\"posterior var = %.4f\" %var_post)\n",
    "\n",
    "# posterior median\n",
    "h = 0\n",
    "i = 0\n",
    "while h <= .5:\n",
    "    h += post[i] * dx\n",
    "    i += 1\n",
    "\n",
    "print(\"posterior median = %.4f\" %xgrid[i])\n",
    "\n",
    "# maximum posterior estimator (global maximum!) over the grid\n",
    "i = 0 \n",
    "while post[i] <= post[i+1]:\n",
    "    i += 1\n",
    "\n",
    "print(\"posterior MAP (over grid) = %.4f\" %xgrid[i])\n",
    "\n",
    "# maximum posterior estimator (Newton method)\n",
    "mapost = mean_post\n",
    "eps = 1.\n",
    "\n",
    "while eps > 1e-8:\n",
    "    obsg = obsgf(mapost)\n",
    "    \n",
    "    # f is the negative exponent of eqn (5.7).\n",
    "    # finding argument for the smallest f yields the maxima of the pdf (our goal!)\n",
    "    f = (mapost-x0)**2 / (2. * B) + (obsg - dobs)**2 / (2. ** R)\n",
    "    Df = 1./B*(mapost-x0) + 1./R * (obsg - dobs) * (7./4 * mapost**2 - 7. * mapost + 8)\n",
    "    \n",
    "    alpha = 1.\n",
    "    t = 0.\n",
    "    \n",
    "    # find a proper step-size to ensure decreasing f's.\n",
    "    while t < .5:\n",
    "        mapn = mapost - alpha * Df\n",
    "        alpha /= 2.\n",
    "        \n",
    "        obsg = obsgf(mapn)\n",
    "        fn = (mapn-x0)**2 / (2. * B) + (obsg - dobs)**2 / (2. ** R)\n",
    "        \n",
    "        if fn <= f:\n",
    "            t = 1.\n",
    "    \n",
    "    eps = np.abs(mapn-mapost)\n",
    "    mapost= mapn\n",
    "    \n",
    "print(\"posterior MAP (Newton method) = %.4f\" %xgrid[i])"
   ]
  },
  {
   "cell_type": "code",
   "execution_count": 32,
   "metadata": {},
   "outputs": [
    {
     "data": {
      "image/png": "[encoded data removed]",
      "text/plain": [
       "<Figure size 576x432 with 1 Axes>"
      ]
     },
     "metadata": {
      "needs_background": "light"
     },
     "output_type": "display_data"
    }
   ],
   "source": [
    "dx = 0.05\n",
    "xgrid = np.arange(-4.,1.+dx,dx)\n",
    "prior = 1./np.sqrt(2. * np.pi * B) * np.exp(-(xgrid-x0)**2 / (2. * B))\n",
    "prior = prior/np.sum(prior)/dx\n",
    "\n",
    "# non-linear forward map\n",
    "obsg = 7./12 * xgrid**3 - 7./2 * xgrid**2 + 8 * xgrid\n",
    "lik = 1./np.sqrt(2. * np.pi * R) * np.exp(-(obsg - dobs)**2 / (2. * R))\n",
    "# lik = lik / np.sum(lik) / dx\n",
    "post = lik * prior / np.sum(lik * prior) / dx\n",
    "\n",
    "fig0 = plt.figure(figsize=(8,6))\n",
    "plt.plot(xgrid,prior, 'x-', label=\"prior\")\n",
    "plt.plot(xgrid,lik, '-o', label=\"likelihood\")\n",
    "plt.plot(xgrid,post, '-*', label=\"posterior\")\n",
    "plt.legend()\n",
    "plt.show()"
   ]
  },
  {
   "cell_type": "code",
   "execution_count": null,
   "metadata": {},
   "outputs": [],
   "source": []
  }
 ],
 "metadata": {
  "kernelspec": {
   "display_name": "Python 2",
   "language": "python",
   "name": "python2"
  },
  "language_info": {
   "codemirror_mode": {
    "name": "ipython",
    "version": 2
   },
   "file_extension": ".py",
   "mimetype": "text/x-python",
   "name": "python",
   "nbconvert_exporter": "python",
   "pygments_lexer": "ipython2",
   "version": "2.7.15"
  }
 },
 "nbformat": 4,
 "nbformat_minor": 2
}
