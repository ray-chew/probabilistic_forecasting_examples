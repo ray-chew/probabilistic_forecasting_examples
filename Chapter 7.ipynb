{
 "cells": [
  {
   "cell_type": "markdown",
   "metadata": {},
   "source": [
    "### Chapter 7"
   ]
  },
  {
   "cell_type": "code",
   "execution_count": 2,
   "metadata": {},
   "outputs": [],
   "source": [
    "import numpy as np\n",
    "import matplotlib.pyplot as plt\n",
    "%matplotlib inline"
   ]
  },
  {
   "cell_type": "markdown",
   "metadata": {},
   "source": [
    "#### Lorenz-63 model\n",
    "Taken from Chapter 1, Example 8. Lorenz model as a surrogate physical process"
   ]
  },
  {
   "cell_type": "code",
   "execution_count": 12,
   "metadata": {},
   "outputs": [],
   "source": [
    "sigm = 10.\n",
    "rho = 28.\n",
    "beta = 8./3\n",
    "dt = 0.001\n",
    "Nout = 50\n",
    "a = 1. / np.sqrt(dt)\n",
    "fakt = 1.99999\n",
    "N = 2 * 10**5\n",
    "\n",
    "# initial conditions\n",
    "x = -.587\n",
    "y = -.563\n",
    "z = 16.870\n",
    "g1 = a * (1. / np.sqrt(2.) - .5)\n",
    "g2 = a * (1. / np.sqrt(3.) - .5)\n",
    "g3 = a * (1. / np.sqrt(5.) - .5)\n",
    "res = np.zeros((N,7))\n",
    "\n",
    "def gi(gi):\n",
    "    if ((gi >= -a/2) and gi < 0):\n",
    "        return a * (fakt * gi / a + 0.5)\n",
    "    else:\n",
    "        return a * (-fakt * gi / a + 0.5)\n",
    "        \n",
    "for i in range(N):\n",
    "    res[i,:] = [i, x, y, z, g1, g2, g3]\n",
    "    \n",
    "    g1 = gi(g1)\n",
    "    g2 = gi(g2)\n",
    "    g3 = gi(g3)\n",
    "    \n",
    "    xn = x + dt * (sigm * (y - x)) + dt * g1\n",
    "    yn = y + dt * (x * (rho - z) - y) + dt * g2\n",
    "    zn = z + dt * (x * y - beta * z) + dt * g3\n",
    "    \n",
    "    x, y, z = xn, yn, zn\n",
    "    \n",
    "res[:,0] *= dt\n",
    "\n",
    "# store only points with dt = 0.05\n",
    "ressug = res[::Nout]\n",
    "\n",
    "# add measurement error using tent map\n",
    "meas = np.zeros((N*4,2))\n",
    "a = 4.\n",
    "fakt = 1.99999\n",
    "eta1 = a * (2.**(-1./2) - 0.5)\n",
    "\n",
    "for i in range(N*4):\n",
    "    if ((eta1 >= -a/2) and (eta1 < 0)):\n",
    "        eta1 = (fakt * eta1 + 0.5 * a)\n",
    "    else:\n",
    "        eta1 = (-fakt * eta1 + 0.5 * a)\n",
    "    meas[i] = [i+1, eta1]\n",
    "    \n",
    "measerr = meas[:,1][::10]\n",
    "\n",
    "# observation of x-component (dt = 0.05, first 200 datapoints)\n",
    "obsx = np.zeros((N/Nout,3))\n",
    "j = 0\n",
    "i = 0\n",
    "\n",
    "for k in range(0,N,Nout):\n",
    "    err = 1./20 * np.sum(measerr[j:j+20])\n",
    "    obsx[i] = [res[k,0], res[k,1], err]\n",
    "    i += 1\n",
    "    j += 20\n",
    "    \n",
    "obsx = np.array(obsx)\n",
    "obs = [obsx[:,0], obsx[:,1] + obsx[:,2]]\n",
    "obs = np.array(obs)"
   ]
  },
  {
   "cell_type": "markdown",
   "metadata": {},
   "source": [
    "### Example 7.9 (Ensemble Kalman Filter with perturbed observations (EnKF))\n",
    "The analysis step (Algorithm 7.7. (ii)) consists of\n",
    "1. $rpert = Hz^f_i + \\xi_j - y_{obs}$. The forward operator $H$ is $x_{\\text{ref}}$. So `reprt = x - xobs + sqrt(R) * randn(M)`.\n",
    "2. $P_m^f = \\frac{1}{M-1} \\sum_i^{M} (z^f_i - \\bar{z}^f_i)(z^f_i - \\bar{z}^f_i)^T$. Let $dX = X - \\bar{X}$, where $X := z^f \\in \\mathbb{R}^{3 \\times M}$. Then `dX = X - np.mean(X,axis=1)`. The outer product is given by $dX \\times dX^T \\in \\mathbb{R}^{3 \\times M \\times 3}$, $dX \\in \\mathbb{R}^{3 \\times M \\times 1}, dX^T \\in \\mathbb{R}^{1 \\times M \\times 3}$. So `P = 1/(M-1) * (dX * dX.T).sum(axis=1)`.\n",
    "3. $K = P_m^f H^T (H P_M^f H^T + R)^{-1}$. $P_m^f H^T =$ first column of $P_m^f$, while $H P_M^f H^T$ is the first-most entry of $P_m^f$, i.e. `P[0,0]`. So `K = P[:,0] / (P[0,0] + R)`\n",
    "4. $z^a = z^f - K \\cdot rpert^T$. `z^a = z^f - outer(K,reprt)`.\n",
    "\n",
    "Tidy up the above whenever possible."
   ]
  },
  {
   "cell_type": "code",
   "execution_count": null,
   "metadata": {},
   "outputs": [],
   "source": [
    "STEPS = 5*40\n",
    "R = 1./15\n",
    "\n",
    "# recall that from example 4.8, the Lorenz model with drift term f(x) set to zero can be modelled \n",
    "# by a stochastic difference equation with mean = 0, var = 0.0838.\n",
    "var = 0.0838\n",
    "\n",
    "# sigma value given in example 6.9.\n",
    "sigma = 0.1\n",
    "\n",
    "NN = 19\n",
    "m = np.arange(1,NN+1)\n",
    "m = 2*m+2\n",
    "#m = np.array([4])\n",
    "\n",
    "rmse_x = np.zeros((NN))\n",
    "rmse_y = np.zeros((NN))\n",
    "rmse_z = np.zeros((NN))\n",
    "\n",
    "for lkl in range(NN):\n",
    "    M = m[lkl]\n",
    "    \n",
    "    x0 = -0.587\n",
    "    y0 = -0.563\n",
    "    z0 = 16.87\n",
    "    \n",
    "    x = x0 + np.sqrt(sigma) * np.random.randn(M)\n",
    "    y = y0 + np.sqrt(sigma) * np.random.randn(M)\n",
    "    z = z0 + np.sqrt(sigma) * np.random.randn(M)\n",
    "    t= np.zeros((STEPS+1))\n",
    "    \n",
    "    x_f = np.zeros((STEPS+1))\n",
    "    y_f = np.zeros((STEPS+1))\n",
    "    z_f = np.zeros((STEPS+1))\n",
    "    \n",
    "    x_f[0] = np.mean(x)\n",
    "    y_f[0] = np.mean(y)\n",
    "    z_f[0] = np.mean(z)\n",
    "    \n",
    "    rmse_x[lkl] = 0.\n",
    "    rmse_y[lkl] = 0.\n",
    "    rmse_z[lkl] = 0.\n",
    "    \n",
    "    for j in range(STEPS):\n",
    "        xh = x\n",
    "        yh = y\n",
    "        zh = z\n",
    "        \n",
    "        for i in range(Nout):\n",
    "            xo = xh\n",
    "            yo = yh\n",
    "            zo = zh\n",
    "            \n",
    "            # step within each observation window by means of the stochastic Lorenz-63 model\n",
    "            xh = xo + dt * 10. * (yo-xo) + np.sqrt(dt * var) * np.random.randn(M)\n",
    "            yh = yo + dt * (xo * (28. - zo) - yo) + np.sqrt(dt * var) * np.random.randn(M)\n",
    "            zh = zo + dt * (xo * yo - 8./3 * zo) + np.sqrt(dt * var) * np.random.randn(M)\n",
    "\n",
    "        # Calculate residual: (forward map of reference - yobs)\n",
    "        r = xh - obs[1,j+1]\n",
    "        # Hz^f_i + eta_i - y_{obs} = rpert\n",
    "        rpert = r + np.sqrt(R) * np.random.randn(M)\n",
    "        \n",
    "        x = xh\n",
    "        y = yh\n",
    "        z = zh\n",
    "        \n",
    "        X = np.vstack((x,y,z))\n",
    "        dX = X - np.mean(X, axis=1).reshape(-1,1)\n",
    "\n",
    "        P = dX[:,:,None] * dX.T[None,:,:]\n",
    "        P = P.sum(axis=1)/(M-1)\n",
    "        \n",
    "        K = P[:,0] / (P[0,0] + R)\n",
    "        X -= np.outer(K,rpert)\n",
    "\n",
    "        x = X[0,:]\n",
    "        y = X[1,:]\n",
    "        z = X[2,:]\n",
    "        \n",
    "        x_f[j+1] = np.mean(x)\n",
    "        y_f[j+1] = np.mean(y)\n",
    "        z_f[j+1] = np.mean(z)\n",
    "        t[j+1] = dt * Nout * (j+1)\n",
    "        \n",
    "        rmse_x[lkl] = rmse_x[lkl] + (x_f[j+1] - ressug[j+1,1])**2\n",
    "        rmse_y[lkl] = rmse_y[lkl] + (y_f[j+1] - ressug[j+1,2])**2\n",
    "        rmse_z[lkl] = rmse_z[lkl] + (z_f[j+1] - ressug[j+1,3])**2\n",
    "        \n",
    "    rmse_x[lkl] = np.sqrt(rmse_x[lkl] / STEPS)\n",
    "    rmse_y[lkl] = np.sqrt(rmse_y[lkl] / STEPS)\n",
    "    rmse_z[lkl] = np.sqrt(rmse_z[lkl] / STEPS)"
   ]
  },
  {
   "cell_type": "code",
   "execution_count": 101,
   "metadata": {},
   "outputs": [
    {
     "data": {
      "image/png": "[encoded data removed]",
      "text/plain": [
       "<Figure size 576x432 with 1 Axes>"
      ]
     },
     "metadata": {
      "needs_background": "light"
     },
     "output_type": "display_data"
    }
   ],
   "source": [
    "fig0a = plt.figure(figsize=(8,6))\n",
    "plt.plot(m,rmse_x, 'x-', label=\"x-coordinate\")\n",
    "plt.plot(m,rmse_z, 'o-', label=\"z-coordinate\")\n",
    "plt.xlim([2,40])\n",
    "plt.ylim([0,0.6])\n",
    "plt.xlabel(\"sample size M\")\n",
    "plt.ylabel(\"time averaged RMSEs\")\n",
    "plt.title(\"EnKF with perturbed observations\")\n",
    "plt.legend()\n",
    "plt.show()"
   ]
  },
  {
   "cell_type": "markdown",
   "metadata": {},
   "source": [
    "### Example 7.9 (Ensemble Square Root Filter (ESRF))\n",
    "From Algorithm 7.8 (ii):\n",
    "1. First get the Kalman gain matrix $K$. This is equivalent to steps 2. and 3. from above.\n",
    "2. Get the analysis mean given by eqn 7.8, $\\bar{z}^a = \\bar{z}^f_M - K(H\\bar{z}_M^f - y_{obs})$.\n",
    "3. Derive the matrix $S$ using eqn 7.22. Here, $HA^f$ is the x-component of the $dX$ matrix from above.\n",
    "4. Then derive $z^a_i$ using eqn 7.26, i.e. $z^a_i = \\bar{z}^a + dX \\cdot S$."
   ]
  },
  {
   "cell_type": "code",
   "execution_count": 145,
   "metadata": {},
   "outputs": [],
   "source": [
    "from scipy.linalg import sqrtm\n",
    "\n",
    "STEPS = 5*40\n",
    "R = 1./15\n",
    "\n",
    "# recall that from example 4.8, the Lorenz model with drift term f(x) set to zero can be modelled \n",
    "# by a stochastic difference equation with mean = 0, var = 0.0838.\n",
    "var = 0.0838\n",
    "\n",
    "# sigma value given in example 6.9.\n",
    "sigma = 0.1\n",
    "\n",
    "NN = 20\n",
    "m = np.arange(1,NN+1)\n",
    "m = 2*m\n",
    "\n",
    "rmse_x = np.zeros((NN))\n",
    "rmse_y = np.zeros((NN))\n",
    "rmse_z = np.zeros((NN))\n",
    "\n",
    "for lkl in range(NN):\n",
    "    M = m[lkl]\n",
    "    \n",
    "    x0 = -0.587\n",
    "    y0 = -0.563\n",
    "    z0 = 16.87\n",
    "    \n",
    "    x = x0 + np.sqrt(sigma) * np.random.randn(M)\n",
    "    y = y0 + np.sqrt(sigma) * np.random.randn(M)\n",
    "    z = z0 + np.sqrt(sigma) * np.random.randn(M)\n",
    "    t= np.zeros((STEPS+1))\n",
    "    \n",
    "    x_f = np.zeros((STEPS+1))\n",
    "    y_f = np.zeros((STEPS+1))\n",
    "    z_f = np.zeros((STEPS+1))\n",
    "    \n",
    "    x_f[0] = np.mean(x)\n",
    "    y_f[0] = np.mean(y)\n",
    "    z_f[0] = np.mean(z)\n",
    "    \n",
    "    rmse_x[lkl] = 0.\n",
    "    rmse_y[lkl] = 0.\n",
    "    rmse_z[lkl] = 0.\n",
    "    \n",
    "    for j in range(STEPS):\n",
    "        xh = x\n",
    "        yh = y\n",
    "        zh = z\n",
    "        \n",
    "        for i in range(Nout):\n",
    "            xo = xh\n",
    "            yo = yh\n",
    "            zo = zh\n",
    "            \n",
    "            # step within each observation window by means of the stochastic Lorenz-63 model\n",
    "            xh = xo + dt * 10. * (yo-xo) + np.sqrt(dt * var) * np.random.randn(M)\n",
    "            yh = yo + dt * (xo * (28. - zo) - yo) + np.sqrt(dt * var) * np.random.randn(M)\n",
    "            zh = zo + dt * (xo * yo - 8./3 * zo) + np.sqrt(dt * var) * np.random.randn(M)\n",
    "        \n",
    "        x = xh\n",
    "        y = yh\n",
    "        z = zh\n",
    "        \n",
    "        # Get the Kalman gain matrix K.\n",
    "        X = np.vstack((x,y,z))\n",
    "        dX = X - np.mean(X, axis=1).reshape(-1,1)\n",
    "\n",
    "        P = dX[:,:,None] * dX.T[None,:,:]\n",
    "        P = P.sum(axis=1)/(M-1)\n",
    "        \n",
    "        K = P[:,0] / (P[0,0] + R)\n",
    "        \n",
    "        # mean of analysis, eqn 7.8\n",
    "        xmean = np.mean(X,axis=1)\n",
    "        xmean = xmean - K*(xmean[0] - obs[1,j+1])\n",
    "        \n",
    "        # Get the S matrix, eqn 7.22\n",
    "        Y = dX[0,:] / np.sqrt(M-1)\n",
    "        Y = Y.reshape(-1,1) # to make transpose sensible - 1D arrays not transposable!\n",
    "        S2 = np.linalg.inv(sqrtm(np.eye(M) + Y.T * Y / R)).real\n",
    "        dX = np.dot(dX,S2)\n",
    "        \n",
    "        X = xmean.reshape(-1,1) * np.ones(1,M) + dX\n",
    "\n",
    "        x = X[0,:]\n",
    "        y = X[1,:]\n",
    "        z = X[2,:]\n",
    "        \n",
    "        x_f[j+1] = np.mean(x)\n",
    "        y_f[j+1] = np.mean(y)\n",
    "        z_f[j+1] = np.mean(z)\n",
    "        t[j+1] = dt * Nout * (j+1)\n",
    "        \n",
    "        rmse_x[lkl] = rmse_x[lkl] + (x_f[j+1] - ressug[j+1,1])**2\n",
    "        rmse_y[lkl] = rmse_y[lkl] + (y_f[j+1] - ressug[j+1,2])**2\n",
    "        rmse_z[lkl] = rmse_z[lkl] + (z_f[j+1] - ressug[j+1,3])**2\n",
    "        \n",
    "    rmse_x[lkl] = np.sqrt(rmse_x[lkl] / STEPS)\n",
    "    rmse_y[lkl] = np.sqrt(rmse_y[lkl] / STEPS)\n",
    "    rmse_z[lkl] = np.sqrt(rmse_z[lkl] / STEPS)"
   ]
  },
  {
   "cell_type": "code",
   "execution_count": 148,
   "metadata": {},
   "outputs": [
    {
     "data": {
      "image/png": "[encoded data removed]",
      "text/plain": [
       "<Figure size 576x432 with 1 Axes>"
      ]
     },
     "metadata": {
      "needs_background": "light"
     },
     "output_type": "display_data"
    }
   ],
   "source": [
    "fig0b = plt.figure(figsize=(8,6))\n",
    "plt.plot(m,rmse_x, 'x-', label=\"x-coordinate\")\n",
    "plt.plot(m,rmse_z, 'o-', label=\"z-coordinate\")\n",
    "plt.xlim([2,40])\n",
    "plt.ylim([0,0.6])\n",
    "plt.xlabel(\"sample size M\")\n",
    "plt.ylabel(\"time averaged RMSEs\")\n",
    "plt.title(\"ESRF\")\n",
    "plt.legend()\n",
    "plt.show()"
   ]
  },
  {
   "cell_type": "markdown",
   "metadata": {},
   "source": [
    "### Example 7.11 (Ensemble Transform Particle Filter)"
   ]
  },
  {
   "cell_type": "code",
   "execution_count": 15,
   "metadata": {},
   "outputs": [],
   "source": [
    "from scipy.linalg import sqrtm\n",
    "from pyemd import emd_with_flow\n",
    "\n",
    "STEPS = 5*40\n",
    "R = 1./15\n",
    "\n",
    "# recall that from example 4.8, the Lorenz model with drift term f(x) set to zero can be modelled \n",
    "# by a stochastic difference equation with mean = 0, var = 0.0838.\n",
    "var = 0.0838\n",
    "\n",
    "# sigma value given in example 6.9.\n",
    "sigma = 0.1\n",
    "\n",
    "# rejuvenation parameter\n",
    "delta = 0.1\n",
    "\n",
    "m = np.arange(30,101,10)\n",
    "NN = m.shape[0]\n",
    "\n",
    "rmse_x = np.zeros((NN))\n",
    "rmse_y = np.zeros((NN))\n",
    "rmse_z = np.zeros((NN))\n",
    "\n",
    "for lkl in range(NN):\n",
    "    M = m[lkl]\n",
    "    \n",
    "    x0 = -0.587\n",
    "    y0 = -0.563\n",
    "    z0 = 16.87\n",
    "    \n",
    "    x = x0 + np.sqrt(sigma) * np.random.randn(M)\n",
    "    y = y0 + np.sqrt(sigma) * np.random.randn(M)\n",
    "    z = z0 + np.sqrt(sigma) * np.random.randn(M)\n",
    "    t= np.zeros((STEPS+1))\n",
    "    \n",
    "    x_f = np.zeros((STEPS+1))\n",
    "    y_f = np.zeros((STEPS+1))\n",
    "    z_f = np.zeros((STEPS+1))\n",
    "    \n",
    "    x_f[0] = np.mean(x)\n",
    "    y_f[0] = np.mean(y)\n",
    "    z_f[0] = np.mean(z)\n",
    "    \n",
    "    rmse_x[lkl] = 0.\n",
    "    rmse_y[lkl] = 0.\n",
    "    rmse_z[lkl] = 0.\n",
    "    \n",
    "    for j in range(STEPS):\n",
    "        xh = x\n",
    "        yh = y\n",
    "        zh = z\n",
    "        \n",
    "        for i in range(Nout):\n",
    "            xo = xh\n",
    "            yo = yh\n",
    "            zo = zh\n",
    "            \n",
    "            # step within each observation window by means of the stochastic Lorenz-63 model\n",
    "            xh = xo + dt * 10. * (yo-xo) + np.sqrt(dt * var) * np.random.randn(M)\n",
    "            yh = yo + dt * (xo * (28. - zo) - yo) + np.sqrt(dt * var) * np.random.randn(M)\n",
    "            zh = zo + dt * (xo * yo - 8./3 * zo) + np.sqrt(dt * var) * np.random.randn(M)\n",
    "        \n",
    "        x = xh\n",
    "        y = yh\n",
    "        z = zh\n",
    "        \n",
    "        r = x - obs[1,j+1]\n",
    "        ww = np.exp(-r**2 / (2. * R))\n",
    "        ww /= np.sum(ww)\n",
    "        \n",
    "        X = np.vstack((x,y,z))\n",
    "        CO = np.dot(X.T,X)\n",
    "        CO = np.diag(CO) * np.ones((1,M)) - 2. * CO + np.ones((M,1)) * np.diag(CO).T\n",
    "\n",
    "        dist, T = emd_with_flow(ww,np.ones(M)/M, CO, -1)\n",
    "        T = np.array(T)\n",
    "        T = T*M\n",
    "        \n",
    "        X = np.dot(X,T) + delta * np.random.randn(3,M)\n",
    "\n",
    "        x = X[0,:]\n",
    "        y = X[1,:]\n",
    "        z = X[2,:]\n",
    "        \n",
    "        x_f[j+1] = np.mean(x)\n",
    "        y_f[j+1] = np.mean(y)\n",
    "        z_f[j+1] = np.mean(z)\n",
    "        t[j+1] = dt * Nout * (j+1)\n",
    "        \n",
    "        rmse_x[lkl] = rmse_x[lkl] + (x_f[j+1] - ressug[j+1,1])**2\n",
    "        rmse_y[lkl] = rmse_y[lkl] + (y_f[j+1] - ressug[j+1,2])**2\n",
    "        rmse_z[lkl] = rmse_z[lkl] + (z_f[j+1] - ressug[j+1,3])**2\n",
    "        \n",
    "    rmse_x[lkl] = np.sqrt(rmse_x[lkl] / STEPS)\n",
    "    rmse_y[lkl] = np.sqrt(rmse_y[lkl] / STEPS)\n",
    "    rmse_z[lkl] = np.sqrt(rmse_z[lkl] / STEPS)"
   ]
  },
  {
   "cell_type": "code",
   "execution_count": 182,
   "metadata": {},
   "outputs": [
    {
     "data": {
      "image/png": "[encoded data removed]",
      "text/plain": [
       "<Figure size 576x432 with 1 Axes>"
      ]
     },
     "metadata": {
      "needs_background": "light"
     },
     "output_type": "display_data"
    }
   ],
   "source": [
    "fig1 = plt.figure(figsize=(8,6))\n",
    "plt.plot(m,rmse_x, 'x-', label=\"x-coordinate\")\n",
    "plt.plot(m,rmse_z, 'o-', label=\"z-coordinate\")\n",
    "plt.xlim([30,100])\n",
    "plt.ylim([0,0.6])\n",
    "plt.xlabel(\"sample size M\")\n",
    "plt.ylabel(\"time averaged RMSEs\")\n",
    "plt.title(\"ETPF\")\n",
    "plt.legend()\n",
    "plt.show()"
   ]
  },
  {
   "cell_type": "markdown",
   "metadata": {},
   "source": [
    "### Example 7.12 (Unstable reference solution  and strongly nonlinear model dynamics)\n",
    "#### Ensemble Kalman Filter\n",
    "\n",
    "Consider the dynamical system\n",
    "$$ z^{n+1} = \\phi(z^n) + \\eta^n, \\quad \\geq 0,$$\n",
    "where ${\\eta^n} \\sim N(0,1)$, and\n",
    "$$ y_{obs}^n = \\xi^n, \\quad n \\geq 1, $$\n",
    "where ${\\xi^n} \\sim N(0,4)$. The initial distribution is $N(0,2)$."
   ]
  },
  {
   "cell_type": "code",
   "execution_count": 239,
   "metadata": {},
   "outputs": [],
   "source": [
    "R = 4. # variance of the observations\n",
    "B = 2. # initial variance\n",
    "Q = 1. # variance of the Gaussian i.i.d. terms in the dynamical system\n",
    "\n",
    "ensemble = [100,500,1000,5000,10000]\n",
    "\n",
    "J = len(ensemble)\n",
    "STEPS = 1000\n",
    "RMSE = np.zeros((J))\n",
    "\n",
    "for j in range(J):\n",
    "    M = ensemble[j]\n",
    "    \n",
    "    z = np.sqrt(B) * np.random.randn(M)\n",
    "    \n",
    "    for jj in range(STEPS):\n",
    "        zf = z**3 + np.sqrt(Q)*np.random.randn(M)\n",
    "        \n",
    "        yobs = np.sqrt(R) * np.random.randn()\n",
    "        \n",
    "        zfmean = np.mean(zf)\n",
    "        dz = zf - zfmean\n",
    "        P = np.sum(dz**2) / (M-1)\n",
    "        K = P/(P+R)\n",
    "        za = zf - np.dot(K,(zf - yobs + np.sqrt(R)*np.random.randn(M)))\n",
    "        \n",
    "        zamean = np.mean(za)\n",
    "        \n",
    "        RMSE[j] += zamean**2\n",
    "        \n",
    "        z = np.copy(za)\n",
    "        \n",
    "RMSE = np.sqrt(RMSE/STEPS)"
   ]
  },
  {
   "cell_type": "code",
   "execution_count": 240,
   "metadata": {},
   "outputs": [
    {
     "data": {
      "image/png": "[encoded data removed]",
      "text/plain": [
       "<Figure size 576x432 with 1 Axes>"
      ]
     },
     "metadata": {
      "needs_background": "light"
     },
     "output_type": "display_data"
    },
    {
     "data": {
      "image/png": "[encoded data removed]",
      "text/plain": [
       "<Figure size 576x432 with 1 Axes>"
      ]
     },
     "metadata": {
      "needs_background": "light"
     },
     "output_type": "display_data"
    }
   ],
   "source": [
    "fig2a = plt.figure(figsize=(8,6))\n",
    "plt.semilogx(ensemble,RMSE, 'x-')\n",
    "plt.xlabel(\"ensemble size M\")\n",
    "plt.ylabel(\"time averaged RMSEs\")\n",
    "plt.title(\"EnKF with perturbed observations\")\n",
    "plt.xlim([100,10000])\n",
    "plt.ylim([0.5,2.5])\n",
    "plt.show()\n",
    "\n",
    "fig2b = plt.figure(figsize=(8,6))\n",
    "nn,xh = np.histogram(z)\n",
    "xh = (xh[1:] + xh[:-1])/2\n",
    "plt.bar(xh,nn.astype(float)/sum(nn))\n",
    "plt.xlabel(\"state variable\")\n",
    "plt.title(\"relative frequencies of binn EnKF ensemble at final time\")\n",
    "plt.xlim([-10,10])\n",
    "plt.ylim([0.,.5])\n",
    "plt.show()"
   ]
  },
  {
   "cell_type": "markdown",
   "metadata": {},
   "source": [
    "#### Ensemble Transform Particle Filter"
   ]
  },
  {
   "cell_type": "code",
   "execution_count": 463,
   "metadata": {},
   "outputs": [],
   "source": [
    "from scipy.sparse import lil_matrix\n",
    "\n",
    "R = 4. # variance of the observations\n",
    "B = 2. # initial variance\n",
    "Q = 1. # variance of the Gaussian i.i.d. terms in the dynamical system\n",
    "\n",
    "ensemble = [100,500,1000,5000,10000]\n",
    "\n",
    "J = len(ensemble)\n",
    "STEPS = 1000\n",
    "RMSE = np.zeros((J))\n",
    "\n",
    "for j0 in range(J):\n",
    "    M = ensemble[j0]\n",
    "    \n",
    "    z = np.sqrt(B) * np.random.randn(M)\n",
    "    \n",
    "    w = np.ones(M) / M\n",
    "\n",
    "    for jj in range(STEPS):\n",
    "        zf = z**3 + np.sqrt(Q)*np.random.randn(M)\n",
    "        zf = np.sort(zf)\n",
    "        \n",
    "        yobs = np.sqrt(R) * np.random.randn()\n",
    "\n",
    "        ww = np.exp(-(zf - yobs)**2 / (2. * R))\n",
    "        ww /= np.sum(ww)\n",
    "\n",
    "        # Algorithm from Appendix 5.8\n",
    "        T = lil_matrix((M,M))\n",
    "        j = M-1\n",
    "        i = M-1\n",
    "        dx = np.copy(w)\n",
    "        dy = np.copy(ww)\n",
    "        \n",
    "        while i+j >= 0:\n",
    "            if dy[i] < dx[j]:\n",
    "                T[i,j] = dy[i]\n",
    "                dx[j] = dx[j] - dy[i]\n",
    "                i = i - 1\n",
    "            else:\n",
    "                T[i,j] = dx[j]\n",
    "                dy[i] = dy[i] - dx[j]\n",
    "                j = j - 1\n",
    "        \n",
    "        za = zf * T * M\n",
    "        zamean = np.mean(za)\n",
    "        RMSE[j0] += zamean**2\n",
    "        z = za\n",
    "        \n",
    "RMSE = np.sqrt(RMSE/STEPS)"
   ]
  },
  {
   "cell_type": "code",
   "execution_count": 464,
   "metadata": {},
   "outputs": [
    {
     "data": {
      "image/png": "[encoded data removed]",
      "text/plain": [
       "<Figure size 576x432 with 1 Axes>"
      ]
     },
     "metadata": {
      "needs_background": "light"
     },
     "output_type": "display_data"
    },
    {
     "data": {
      "image/png": "[encoded data removed]",
      "text/plain": [
       "<Figure size 576x432 with 1 Axes>"
      ]
     },
     "metadata": {
      "needs_background": "light"
     },
     "output_type": "display_data"
    }
   ],
   "source": [
    "fig2c = plt.figure(figsize=(8,6))\n",
    "plt.semilogx(ensemble,RMSE, 'x-')\n",
    "plt.xlabel(\"ensemble size M\")\n",
    "plt.ylabel(\"time averaged RMSEs\")\n",
    "plt.title(\"ETPF\")\n",
    "plt.xlim([100,10000])\n",
    "plt.ylim([0.5,2.5])\n",
    "plt.show()\n",
    "\n",
    "fig2d = plt.figure(figsize=(8,6))\n",
    "nn,xh = np.histogram(z)\n",
    "xh = (xh[1:] + xh[:-1])/2\n",
    "plt.bar(xh,nn.astype(float)/sum(nn))\n",
    "plt.xlabel(\"state variable\")\n",
    "plt.title(\"relative frequencies of binn ETPF ensemble at final time\")\n",
    "plt.xlim([-10,10])\n",
    "plt.ylim([0.,.5])\n",
    "plt.show()"
   ]
  },
  {
   "cell_type": "markdown",
   "metadata": {},
   "source": [
    "### Example 7.14"
   ]
  },
  {
   "cell_type": "code",
   "execution_count": null,
   "metadata": {},
   "outputs": [],
   "source": []
  }
 ],
 "metadata": {
  "kernelspec": {
   "display_name": "Python 2",
   "language": "python",
   "name": "python2"
  },
  "language_info": {
   "codemirror_mode": {
    "name": "ipython",
    "version": 2
   },
   "file_extension": ".py",
   "mimetype": "text/x-python",
   "name": "python",
   "nbconvert_exporter": "python",
   "pygments_lexer": "ipython2",
   "version": "2.7.15"
  }
 },
 "nbformat": 4,
 "nbformat_minor": 2
}
