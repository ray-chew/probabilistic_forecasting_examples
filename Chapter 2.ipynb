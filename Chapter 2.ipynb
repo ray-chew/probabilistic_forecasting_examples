{
 "cells": [
  {
   "cell_type": "markdown",
   "metadata": {},
   "source": [
    "## Chapter 2"
   ]
  },
  {
   "cell_type": "code",
   "execution_count": 2,
   "metadata": {},
   "outputs": [],
   "source": [
    "import numpy as np\n",
    "import matplotlib.pyplot as plt\n",
    "%matplotlib inline"
   ]
  },
  {
   "cell_type": "markdown",
   "metadata": {},
   "source": [
    "### Example 2.20"
   ]
  },
  {
   "cell_type": "code",
   "execution_count": 14,
   "metadata": {},
   "outputs": [],
   "source": [
    "def tentmap(a,fakt,N):\n",
    "    eta1 = a * (2**(-0.5) - 0.5)\n",
    "    meas = np.zeros((N*10,2))\n",
    "    \n",
    "    for i in range(N*10):\n",
    "        if ((eta1 >= -a/2) and (eta1 < 0)):\n",
    "            eta1 = (fakt * eta1 + 0.5 * a)\n",
    "        else:\n",
    "            eta1 = (-fakt * eta1 + 0.5 * a)\n",
    "        meas[i] = [i, eta1]\n",
    "    \n",
    "    measerr = meas[::10,1]\n",
    "    return measerr"
   ]
  },
  {
   "cell_type": "code",
   "execution_count": 16,
   "metadata": {},
   "outputs": [
    {
     "data": {
      "image/png": "[encoded data removed]",
      "text/plain": [
       "<Figure size 432x288 with 1 Axes>"
      ]
     },
     "metadata": {
      "needs_background": "light"
     },
     "output_type": "display_data"
    }
   ],
   "source": [
    "a = 4\n",
    "fakt = 1.99999\n",
    "N = 10**4\n",
    "\n",
    "measerr = tentmap(a,fakt,N)\n",
    "\n",
    "fig0 = plt.figure()\n",
    "plt.hist(measerr)\n",
    "plt.show()"
   ]
  },
  {
   "cell_type": "code",
   "execution_count": 18,
   "metadata": {},
   "outputs": [
    {
     "data": {
      "image/png": "[encoded data removed]",
      "text/plain": [
       "<Figure size 432x288 with 1 Axes>"
      ]
     },
     "metadata": {
      "needs_background": "light"
     },
     "output_type": "display_data"
    }
   ],
   "source": [
    "N = 10**7\n",
    "\n",
    "measerr = tentmap(a,fakt,N)\n",
    "\n",
    "fig1 = plt.figure()\n",
    "plt.hist(measerr)\n",
    "plt.show()"
   ]
  },
  {
   "cell_type": "code",
   "execution_count": 20,
   "metadata": {},
   "outputs": [],
   "source": [
    "error = np.zeros((N/20))\n",
    "j1 = 1\n",
    "\n",
    "for i in range(N/20):\n",
    "    error[i] = np.mean(measerr[j1:j1+20])\n",
    "    j1 += 20"
   ]
  },
  {
   "cell_type": "code",
   "execution_count": 29,
   "metadata": {},
   "outputs": [
    {
     "data": {
      "image/png": "[encoded data removed]",
      "text/plain": [
       "<Figure size 432x288 with 2 Axes>"
      ]
     },
     "metadata": {
      "needs_background": "light"
     },
     "output_type": "display_data"
    }
   ],
   "source": [
    "fig2 = plt.figure()\n",
    "plt.subplot(1, 2, 1)\n",
    "plt.hist(error)\n",
    "plt.xlim(-1.5,1.5)\n",
    "\n",
    "sim = np.sqrt(1./15) * np.random.randn(N/20)\n",
    "plt.subplot(1, 2, 2)\n",
    "plt.hist(sim)\n",
    "plt.xlim(-1.5,1.5)\n",
    "\n",
    "plt.tight_layout()\n",
    "plt.show()"
   ]
  },
  {
   "cell_type": "code",
   "execution_count": 72,
   "metadata": {},
   "outputs": [],
   "source": [
    "maxtau = 25\n",
    "xi = measerr\n",
    "C = np.zeros((maxtau, 2))\n",
    "\n",
    "C[0] = 1.\n",
    "\n",
    "j = 1\n",
    "for tau in range(1,maxtau):\n",
    "    xi1 = xi[tau:]\n",
    "    xi2 = xi[:-tau]\n",
    "    nn = xi**2\n",
    "    cc = np.sum(xi1 * xi2) / np.sum(nn[:-tau])\n",
    "    C[j] = [tau, cc]\n",
    "    j += 1"
   ]
  },
  {
   "cell_type": "code",
   "execution_count": 73,
   "metadata": {},
   "outputs": [
    {
     "data": {
      "image/png": "[encoded data removed]",
      "text/plain": [
       "<Figure size 432x288 with 1 Axes>"
      ]
     },
     "metadata": {
      "needs_background": "light"
     },
     "output_type": "display_data"
    }
   ],
   "source": [
    "fig3 = plt.figure()\n",
    "plt.plot(C[:,0],C[:,1])\n",
    "plt.show()"
   ]
  },
  {
   "cell_type": "markdown",
   "metadata": {},
   "source": [
    "### Example 2.21"
   ]
  },
  {
   "cell_type": "code",
   "execution_count": 8,
   "metadata": {},
   "outputs": [],
   "source": [
    "# Taken from the example in Chap 1.\n",
    "\n",
    "sigma = 10.\n",
    "rho = 28.\n",
    "beta = 8./3\n",
    "dt = 0.001\n",
    "a = 1./np.sqrt(dt)\n",
    "\n",
    "fakt = 1.99999\n",
    "N = 2 * 10**5\n",
    "\n",
    "x = -.587\n",
    "y = -.563\n",
    "z = 16.870\n",
    "\n",
    "g1 = a * (1./np.sqrt(2) - 0.5)\n",
    "g2 = a * (1./np.sqrt(3) - 0.5)\n",
    "g3 = a * (1./np.sqrt(5) - 0.5)\n",
    "\n",
    "res = np.zeros((N,7))\n",
    "\n",
    "for i in range(N):\n",
    "    res[i] = [i-1, x, y, z, g1, g2, g3]\n",
    "    \n",
    "    if ((g1 >= -a/2) and (g1 <0)):\n",
    "        g1 = a * (fakt * g1 / a + 0.5)\n",
    "    else:\n",
    "        g1 = a * (-fakt * g1 / a + 0.5)\n",
    "        \n",
    "    if ((g2 >= -a/2) and (g2 < 0)):\n",
    "        g2 = a * (fakt * g2 / a + 0.5)\n",
    "    else:\n",
    "        g2 = a * (-fakt * g2 / a + 0.5)\n",
    "    \n",
    "    if ((g3 >= -a/2) and (g3 < 0)):\n",
    "        g3 = a * (fakt * g3 / a + 0.5)\n",
    "    else:\n",
    "        g3 = a * (-fakt * g3 / a + 0.5)\n",
    "        \n",
    "    xn = x + dt * ((sigma * (y - x)) + dt * g1)\n",
    "    yn = y + dt * ((x * (rho - z) - y) + dt * g2)\n",
    "    zn = z + dt * ((x * y - beta * z) + dt * g3)\n",
    "    \n",
    "    x = xn\n",
    "    y = yn\n",
    "    z = zn\n",
    "\n",
    "res[:,0] *= dt\n",
    "\n",
    "meas = np.zeros((N*4,2))\n",
    "a = 4.\n",
    "fakt = 1.99999\n",
    "eta1 = a * (2**(-1./2) - 0.5)\n",
    "\n",
    "for i in range(N*4):\n",
    "    if ((eta1 >= -a/2) and (eta1 < 0)):\n",
    "        eta1 = (fakt * eta1 + 0.5 * a)\n",
    "    else:\n",
    "        eta1 = (-fakt * eta1 + 0.5 * a)\n",
    "    meas[i] = [i+1, eta1]\n",
    "    \n",
    "measerr = meas[:,1][::10]\n",
    "\n",
    "Nout = 50\n",
    "obsx = np.zeros((N/Nout,3))\n",
    "\n",
    "j=0\n",
    "i=0\n",
    "\n",
    "for k in range(1,N,Nout):\n",
    "    err = 1./20 * np.sum(measerr[j:j+20])\n",
    "    obsx[i] = [res[k,0], res[k,1], err]\n",
    "    i += 1\n",
    "    j += 20\n",
    "\n",
    "obs = np.array([obsx[:,0], obsx[:,1]+obsx[:,2]])\n",
    "\n",
    "p = 4\n",
    "k = 1 # number of steps for forward prediction\n",
    "\n",
    "Data_Points = obs.shape[1]\n",
    "STEPS = Data_Points/2 + 1 - k\n",
    "\n",
    "y = obs[1][:STEPS]\n",
    "\n",
    "A = np.zeros((STEPS-p-k, p+1))\n",
    "\n",
    "for i in range(p+1):\n",
    "    #print(\"p-i = %i, i = %i, STEPS-p-1+i = %i\" %(p-i,i, STEPS-p-1+i))\n",
    "    A[:,i] = (y[i:STEPS-p-k+i])\n",
    "\n",
    "b = obs[1][p+k:STEPS]\n",
    "\n",
    "c = np.dot(np.linalg.inv(np.dot(A.T,A)),np.dot(A.T,b))\n",
    "\n",
    "res = b - np.dot(A,c)\n",
    "\n",
    "jj = 0\n",
    "RMSE = 0\n",
    "y_obs = np.zeros((STEPS - 1))\n",
    "time = np.zeros((STEPS - 1))\n",
    "y_predict = np.zeros((STEPS - 1))\n",
    "\n",
    "for i in range(Data_Points/2, Data_Points/2 + STEPS - 1):\n",
    "    yn = obs[1][i-p:i+1]\n",
    "    predn = np.dot(yn.T,c)\n",
    "    y_obs[jj] = obs[1][i+k]\n",
    "    time[jj] = 0.05*(i+k)\n",
    "    y_predict[jj] = predn\n",
    "    RMSE += (predn-obsx[:,1][i+k])**2\n",
    "    jj += 1\n",
    "    \n",
    "Res = y_obs - y_predict"
   ]
  },
  {
   "cell_type": "code",
   "execution_count": 27,
   "metadata": {},
   "outputs": [
    {
     "name": "stdout",
     "output_type": "stream",
     "text": [
      "residual mean = 0.0576\n",
      "residual variance squared = 1.0111\n",
      "residual skewness = -0.0284\n",
      "residual kurtosis = 0.1857\n"
     ]
    },
    {
     "data": {
      "image/png": "[encoded data removed]",
      "text/plain": [
       "<Figure size 432x288 with 1 Axes>"
      ]
     },
     "metadata": {
      "needs_background": "light"
     },
     "output_type": "display_data"
    }
   ],
   "source": [
    "J = Res.shape[0]\n",
    "rbar = 1./J * np.sum(Res)\n",
    "print(\"residual mean = %.4f\"  %rbar)\n",
    "var = 1./(J - 1) * np.sum((Res - rbar)**2)\n",
    "print(\"residual variance squared = %.4f\" %var)\n",
    "skewness = 1./(J * var**3) * np.sum((Res - rbar)**3)\n",
    "print(\"residual skewness = %.4f\" %skewness)\n",
    "kurtosis = 1./(J * var**4) * np.sum((Res - rbar)**4) - 3.\n",
    "print(\"residual kurtosis = %.4f\" %kurtosis)\n",
    "\n",
    "fig4 = plt.figure()\n",
    "plt.hist(Res)\n",
    "plt.xlim(-6,6)\n",
    "plt.xlabel(\"residuals\")\n",
    "plt.show()"
   ]
  },
  {
   "cell_type": "markdown",
   "metadata": {},
   "source": [
    "### Example 2.29"
   ]
  },
  {
   "cell_type": "code",
   "execution_count": 99,
   "metadata": {},
   "outputs": [
    {
     "data": {
      "image/png": "[encoded data removed]",
      "text/plain": [
       "<Figure size 432x288 with 1 Axes>"
      ]
     },
     "metadata": {
      "needs_background": "light"
     },
     "output_type": "display_data"
    },
    {
     "data": {
      "image/png": "[encoded data removed]",
      "text/plain": [
       "<Figure size 432x432 with 1 Axes>"
      ]
     },
     "metadata": {
      "needs_background": "light"
     },
     "output_type": "display_data"
    }
   ],
   "source": [
    "from scipy.sparse import lil_matrix, find\n",
    "\n",
    "M = 10\n",
    "xf = np.arange(0.5,M+.1-0.5)/M\n",
    "xf = np.sort(xf)\n",
    "\n",
    "R = 0.1\n",
    "yobs = 0.1\n",
    "\n",
    "w = np.exp(-(xf - yobs)**2 / (R * 2.))\n",
    "w /= w.sum()\n",
    "\n",
    "T = lil_matrix((M,M))\n",
    "j = 0\n",
    "i = 0\n",
    "dx = np.ones(M)/M\n",
    "dy = w\n",
    "\n",
    "while i*j <= (M-1)*(M-1):\n",
    "    if dy[i] < dx[j]:\n",
    "        T[i,j] = dy[i]\n",
    "        dx[j] = dx[j] - dy[i]\n",
    "        dy[i] = 0\n",
    "        i += 1\n",
    "    else:\n",
    "        T[i,j] = dx[j]\n",
    "        dy[i] = dy[i] - dx[j]\n",
    "        dx[j] = 0\n",
    "        j += 1\n",
    "\n",
    "# posterior\n",
    "xa = xf.T * T *M\n",
    "\n",
    "fig5 = plt.figure()\n",
    "plt.plot(xf,np.zeros((xf.shape[0])),'x',label='prior', ms=16)\n",
    "plt.plot(xa,np.zeros((xa.shape[0])),'o',label='posterior', mfc='none', ms=16)\n",
    "plt.xlabel(r'realisations $x_i$')\n",
    "plt.legend()\n",
    "plt.show()\n",
    "\n",
    "i,j,s = find(T)\n",
    "\n",
    "fig6 = plt.figure(figsize=(6,6))\n",
    "plt.spy(T)\n",
    "plt.title('Nonzero entries for optimal coupling matrx')\n",
    "plt.xlabel(r'idx of $x^i$ with uniform weight')\n",
    "plt.ylabel(r'idx of $x^i$ with weight $\\pi_i$')\n",
    "plt.show()"
   ]
  },
  {
   "cell_type": "code",
   "execution_count": 129,
   "metadata": {},
   "outputs": [
    {
     "data": {
      "image/png": "[encoded data removed]",
      "text/plain": [
       "<Figure size 432x288 with 1 Axes>"
      ]
     },
     "metadata": {
      "needs_background": "light"
     },
     "output_type": "display_data"
    }
   ],
   "source": [
    "xgrid = np.arange(0,1.1,.1)\n",
    "\n",
    "l1 = xf[0] * (xgrid - xf[0])\n",
    "a1 = xf[0] * (xf[2] - xf[0])\n",
    "l2 = xf[1] * (xgrid - xf[2]) + a1\n",
    "a2 = xf[1]*(xf[4]-xf[2])\n",
    "l3 = xf[2]*(xgrid-xf[4]) + a1 + a2;\n",
    "a3 = xf[2]*(xf[5]-xf[4]);\n",
    "l4 = xf[3]*(xgrid-xf[5]) + a1 + a2 + a3;\n",
    "a4 = xf[3]*(xf[7]-xf[5]);\n",
    "l5 = xf[4]*(xgrid-xf[7]) + a1 + a2 + a3 + a4;\n",
    "a5 = xf[4]*(xf[8]-xf[7]);\n",
    "l6 = xf[5]*(xgrid-xf[8]) + a1 + a2 + a3 + a4 + a5;\n",
    "a6 = xf[5]*(xf[9]-xf[8]);\n",
    "l7 = xf[9]*(xgrid-xf[9]) + a1 + a2 + a3 + a4 + a5 + a6;\n",
    "\n",
    "Ls = np.array([l1,l2,l3,l4,l5,l6,l7])\n",
    "\n",
    "fig7 = plt.figure()\n",
    "plt.plot(xgrid,Ls.max(axis=0), 'k')\n",
    "plt.ylim([-0.05,.3])\n",
    "plt.xlim([0,1.])\n",
    "plt.xlabel(r'$x_1$ variable')\n",
    "plt.title(r'convex potention $\\psi$')\n",
    "plt.show()"
   ]
  },
  {
   "cell_type": "code",
   "execution_count": null,
   "metadata": {},
   "outputs": [],
   "source": []
  }
 ],
 "metadata": {
  "kernelspec": {
   "display_name": "Python 2",
   "language": "python",
   "name": "python2"
  },
  "language_info": {
   "codemirror_mode": {
    "name": "ipython",
    "version": 2
   },
   "file_extension": ".py",
   "mimetype": "text/x-python",
   "name": "python",
   "nbconvert_exporter": "python",
   "pygments_lexer": "ipython2",
   "version": "2.7.15"
  }
 },
 "nbformat": 4,
 "nbformat_minor": 2
}
